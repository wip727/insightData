{
 "cells": [
  {
   "cell_type": "code",
   "execution_count": 5,
   "metadata": {
    "collapsed": true
   },
   "outputs": [],
   "source": [
    "# Twitter features by ChangQing Wang\n",
    "import json # For parsing json code\n",
    "\n",
    "# For feature 1, check the given string, return 1 if non_ascii exists, 0 otherwise\n",
    "def remove_non_ascii(text):\n",
    "    flag = 0\n",
    "    res = \"\"\n",
    "    for i in text:\n",
    "        if ord(i) < 32 or ord(i) > 127:\n",
    "            flag = 1\n",
    "            if (i == \"\\n\" or i == \"\\t\"):\n",
    "                res = res + \" \"\n",
    "            if (i == \"\\'\"):\n",
    "                res = res + \"'\"   \n",
    "            if (i == \"\\\"\"):\n",
    "                res = res + '\"'  \n",
    "            if (i == \"\\\\\\\\\"):\n",
    "                res = res + '\\\\'\n",
    "            if (i == \"\\/\"):\n",
    "                res = res + \"/\"\n",
    "        else: \n",
    "            res = res + i\n",
    "    return flag, res         \n",
    "\n",
    "outfile = open('../tweet_output/ft1.txt', 'w')\n",
    "\n",
    "with open('../tweet_input/tweets.txt') as myfile:\n",
    "    count  = 0\n",
    "    for line in myfile:\n",
    "    #for line in reversed(myfile.readlines()): # to use if tweet.txt is in reversed time order \n",
    "        # Feature 1, write \"clean\" tweets\n",
    "        json_parsed = json.loads(line)\n",
    "        flag, cleantweet = remove_non_ascii(json_parsed['text'])\n",
    "        time = json_parsed['created_at']\n",
    "        count = count + flag\n",
    "        outfile.write(cleantweet + \" (timestamp: \"+ time + \")\") \n",
    "        outfile.write('\\n')\n",
    "\n",
    "if count > 1:\n",
    "    s = repr(count) + ' tweets contained unicode.'\n",
    "else:\n",
    "    s = repr(count) + ' tweet contained unicode.'\n",
    "outfile.write(s) \n",
    "outfile.close()"
   ]
  }
 ],
 "metadata": {
  "kernelspec": {
   "display_name": "Python 2",
   "language": "python",
   "name": "python2"
  },
  "language_info": {
   "codemirror_mode": {
    "name": "ipython",
    "version": 2
   },
   "file_extension": ".py",
   "mimetype": "text/x-python",
   "name": "python",
   "nbconvert_exporter": "python",
   "pygments_lexer": "ipython2",
   "version": "2.7.10"
  }
 },
 "nbformat": 4,
 "nbformat_minor": 0
}
