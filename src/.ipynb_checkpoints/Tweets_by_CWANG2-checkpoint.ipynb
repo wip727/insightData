{
 "cells": [
  {
   "cell_type": "code",
   "execution_count": 1,
   "metadata": {
    "collapsed": false
   },
   "outputs": [
    {
     "ename": "NameError",
     "evalue": "name 'remove_non_ascii' is not defined",
     "output_type": "error",
     "traceback": [
      "\u001b[1;31m---------------------------------------------------------------------------\u001b[0m",
      "\u001b[1;31mNameError\u001b[0m                                 Traceback (most recent call last)",
      "\u001b[1;32m<ipython-input-1-7be00ebd9848>\u001b[0m in \u001b[0;36m<module>\u001b[1;34m()\u001b[0m\n\u001b[0;32m     20\u001b[0m         \u001b[1;31m# Feature 1, write \"clean\" tweets\u001b[0m\u001b[1;33m\u001b[0m\u001b[1;33m\u001b[0m\u001b[0m\n\u001b[0;32m     21\u001b[0m         \u001b[0mjson_parsed\u001b[0m \u001b[1;33m=\u001b[0m \u001b[0mjson\u001b[0m\u001b[1;33m.\u001b[0m\u001b[0mloads\u001b[0m\u001b[1;33m(\u001b[0m\u001b[0mline\u001b[0m\u001b[1;33m)\u001b[0m\u001b[1;33m\u001b[0m\u001b[0m\n\u001b[1;32m---> 22\u001b[1;33m         \u001b[0mflag\u001b[0m\u001b[1;33m,\u001b[0m \u001b[0mcleantweet\u001b[0m \u001b[1;33m=\u001b[0m \u001b[0mremove_non_ascii\u001b[0m\u001b[1;33m(\u001b[0m\u001b[0mjson_parsed\u001b[0m\u001b[1;33m[\u001b[0m\u001b[1;34m'text'\u001b[0m\u001b[1;33m]\u001b[0m\u001b[1;33m)\u001b[0m\u001b[1;33m\u001b[0m\u001b[0m\n\u001b[0m\u001b[0;32m     23\u001b[0m         \u001b[0mtime\u001b[0m \u001b[1;33m=\u001b[0m \u001b[0mjson_parsed\u001b[0m\u001b[1;33m[\u001b[0m\u001b[1;34m'created_at'\u001b[0m\u001b[1;33m]\u001b[0m\u001b[1;33m\u001b[0m\u001b[0m\n\u001b[0;32m     24\u001b[0m         \u001b[0mtime_parsed\u001b[0m \u001b[1;33m=\u001b[0m \u001b[0mdateutil\u001b[0m\u001b[1;33m.\u001b[0m\u001b[0mparser\u001b[0m\u001b[1;33m.\u001b[0m\u001b[0mparse\u001b[0m\u001b[1;33m(\u001b[0m\u001b[0mtime\u001b[0m\u001b[1;33m,\u001b[0m \u001b[0mfuzzy\u001b[0m \u001b[1;33m=\u001b[0m \u001b[0mTrue\u001b[0m\u001b[1;33m)\u001b[0m\u001b[1;33m\u001b[0m\u001b[0m\n",
      "\u001b[1;31mNameError\u001b[0m: name 'remove_non_ascii' is not defined"
     ]
    }
   ],
   "source": [
    "# Twitter features by ChangQing Wang        \n",
    "# Feature 2, check average degree of hashtags within last 60 sec    \n",
    "\n",
    "import json # For parsing json code\n",
    "from collections import defaultdict # Set default value for dictionaries\n",
    "import dateutil.parser # Parsing timestamp\n",
    "\n",
    "# For feature 1, check the given string, return 1 if non_ascii exists, 0 otherwise\n",
    "def remove_non_ascii(text):\n",
    "    flag = 0\n",
    "    res = \"\"\n",
    "    for i in text:\n",
    "        if ord(i) < 32 or ord(i) > 127:\n",
    "            flag = 1\n",
    "            if (i == \"\\n\" or i == \"\\t\"):\n",
    "                res = res + \" \"\n",
    "            if (i == \"\\'\"):\n",
    "                res = res + \"'\"   \n",
    "            if (i == \"\\\"\"):\n",
    "                res = res + '\"'  \n",
    "            if (i == \"\\\\\\\\\"):\n",
    "                res = res + '\\\\'\n",
    "            if (i == \"\\/\"):\n",
    "                res = res + \"/\"\n",
    "        else: \n",
    "            res = res + i\n",
    "    return flag, res         \n",
    "\n",
    "# For the realization of feature 2, extract all unique hashtags from given string\n",
    "def extract_hash_tags(str):\n",
    "    return set(s[1:].lower() for s in str.split() if s.startswith('#'))\n",
    "\n",
    "outfile2 = open('../tweet_output/ft2.txt', 'w')\n",
    "Hashtagdegree = {} # Save the degree of the hashtags\n",
    "Hashtagdegree = defaultdict(lambda: 0, Hashtagdegree)\n",
    "Hashtagreserves = {} # Hashtag dicts with timestamp as keys \n",
    "timeseries = []\n",
    "Avgdegree = 0\n",
    "time_range = 60\n",
    "\n",
    "with open('../tweet_input/tweets.txt') as myfile:\n",
    "    count  = 0\n",
    "    for line in myfile:\n",
    "    #for line in reversed(myfile.readlines()): # to use if tweet.txt is in reversed time order \n",
    "        # Feature 1, write \"clean\" tweets\n",
    "        json_parsed = json.loads(line)\n",
    "        flag, cleantweet = remove_non_ascii(json_parsed['text'])\n",
    "        time = json_parsed['created_at']        \n",
    "        time_parsed = dateutil.parser.parse(time, fuzzy = True)\n",
    "        timeseries.append(time_parsed)\n",
    "        hashtags = extract_hash_tags(cleantweet.encode('ascii','ignore'))\n",
    "        \n",
    "        for t in timeseries:\n",
    "            time_delta = time_parsed - t\n",
    "            if time_delta.seconds <= time_range:\n",
    "                break\n",
    "            timeseries.remove(t)\n",
    "            if t in Hashtagreserves:\n",
    "                dict_to_remove = Hashtagreserves[t]\n",
    "                for htag, htag_val in dict_to_remove.iteritems():\n",
    "                    Hashtagdegree[htag] = Hashtagdegree[htag] - htag_val\n",
    "                    if Hashtagdegree[htag] == 0:\n",
    "                        del Hashtagdegree[htag]\n",
    "                del Hashtagreserves[t]\n",
    "            \n",
    "        \n",
    "        Num = len(hashtags)       \n",
    "        if Num > 1: # if more than one hashtag, update and average hashtag degrees\n",
    "            Hashtagreserves[time_parsed] = {h: Num - 1 for h in hashtags}\n",
    "            \n",
    "            for i in hashtags:\n",
    "                Hashtagdegree[i] = Hashtagdegree[i] + (Num - 1)  \n",
    "            Avgdegree = sum(Hashtagdegree.values()) / float(len(Hashtagdegree)) \n",
    "\n",
    "        outfile2.write(\"%0.2f\" % Avgdegree)\n",
    "        outfile2.write('\\n')\n",
    "\n",
    "outfile2.close()    "
   ]
  },
  {
   "cell_type": "code",
   "execution_count": null,
   "metadata": {
    "collapsed": true
   },
   "outputs": [],
   "source": []
  }
 ],
 "metadata": {
  "kernelspec": {
   "display_name": "Python 2",
   "language": "python",
   "name": "python2"
  },
  "language_info": {
   "codemirror_mode": {
    "name": "ipython",
    "version": 2
   },
   "file_extension": ".py",
   "mimetype": "text/x-python",
   "name": "python",
   "nbconvert_exporter": "python",
   "pygments_lexer": "ipython2",
   "version": "2.7.10"
  }
 },
 "nbformat": 4,
 "nbformat_minor": 0
}
